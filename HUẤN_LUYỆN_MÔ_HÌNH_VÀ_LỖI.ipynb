{
  "nbformat": 4,
  "nbformat_minor": 0,
  "metadata": {
    "colab": {
      "provenance": [],
      "authorship_tag": "ABX9TyNbrGlH4L+vxjyOuyswZu1e",
      "include_colab_link": true
    },
    "kernelspec": {
      "name": "python3",
      "display_name": "Python 3"
    },
    "language_info": {
      "name": "python"
    }
  },
  "cells": [
    {
      "cell_type": "markdown",
      "metadata": {
        "id": "view-in-github",
        "colab_type": "text"
      },
      "source": [
        "<a href=\"https://colab.research.google.com/github/viett887g/huanluyenmohinhloi/blob/main/HU%E1%BA%A4N_LUY%E1%BB%86N_M%C3%94_H%C3%8CNH_V%C3%80_L%E1%BB%96I.ipynb\" target=\"_parent\"><img src=\"https://colab.research.google.com/assets/colab-badge.svg\" alt=\"Open In Colab\"/></a>"
      ]
    },
    {
      "cell_type": "code",
      "source": [
        "import numpy as np\n",
        "import os\n",
        "from sklearn.model_selection import train_test_split"
      ],
      "metadata": {
        "id": "LVSPQQ6B6caL"
      },
      "execution_count": 6,
      "outputs": []
    },
    {
      "cell_type": "code",
      "execution_count": 27,
      "metadata": {
        "colab": {
          "base_uri": "https://localhost:8080/"
        },
        "id": "BogGduuW6BMd",
        "outputId": "1c92cdb8-e982-4c5c-8558-0af8b102c927"
      },
      "outputs": [
        {
          "output_type": "stream",
          "name": "stdout",
          "text": [
            "Xtrain la : [[10.236 ]\n",
            " [ 6.4296]\n",
            " [ 5.1793]\n",
            " [ 7.2182]\n",
            " [ 6.5159]\n",
            " [ 9.1802]\n",
            " [ 5.7737]\n",
            " [ 5.3077]\n",
            " [ 5.8918]\n",
            " [ 6.3557]\n",
            " [ 5.0702]\n",
            " [13.394 ]\n",
            " [ 7.2259]\n",
            " [ 9.3102]\n",
            " [ 7.5386]\n",
            " [11.7   ]\n",
            " [ 5.5649]\n",
            " [ 7.4239]\n",
            " [ 5.0365]\n",
            " [ 9.7687]\n",
            " [11.708 ]\n",
            " [ 8.5186]\n",
            " [ 8.5781]\n",
            " [ 5.8598]\n",
            " [ 7.9334]\n",
            " [ 5.8707]\n",
            " [ 5.7077]\n",
            " [ 5.4369]\n",
            " [ 5.0269]\n",
            " [ 5.4901]\n",
            " [ 5.4069]\n",
            " [ 8.2951]\n",
            " [ 6.8825]\n",
            " [ 7.4764]\n",
            " [ 7.6031]\n",
            " [ 7.5402]\n",
            " [ 8.2111]\n",
            " [12.828 ]\n",
            " [ 5.5204]\n",
            " [ 5.5277]\n",
            " [ 5.5416]\n",
            " [ 6.2742]\n",
            " [ 5.7292]\n",
            " [22.203 ]\n",
            " [ 8.8254]\n",
            " [ 7.8247]\n",
            " [ 7.0708]\n",
            " [ 5.6063]\n",
            " [ 6.3534]\n",
            " [ 5.4994]\n",
            " [ 5.3794]\n",
            " [ 5.7107]\n",
            " [21.279 ]\n",
            " [ 9.2482]\n",
            " [ 6.3261]\n",
            " [ 6.5894]\n",
            " [ 5.1301]\n",
            " [ 5.8014]\n",
            " [ 8.5172]\n",
            " [ 6.5479]\n",
            " [ 7.3345]\n",
            " [10.957 ]\n",
            " [13.176 ]\n",
            " [ 6.1101]\n",
            " [ 8.3829]\n",
            " [ 5.734 ]\n",
            " [ 6.0062]]\n",
            "ytrain la : [ 7.7754   3.6518  -0.74279  4.8852   5.3436   6.7981   2.4406   1.8396\n",
            "  1.8495   0.67861  5.1337   9.0551   3.3411   3.9624   3.8845   8.0043\n",
            "  3.0825   4.2885   5.7014   7.5435   5.3854  13.662   12.       6.8233\n",
            "  4.5623   7.2029   1.8451   0.61705 -2.6807   4.263    0.55657  5.7442\n",
            "  3.9115   4.3483   4.9981   6.7504   6.5426  13.501    0.152    9.1302\n",
            "  1.0179   2.4756   0.47953 24.147    5.1694   6.7318   5.3893   3.3928\n",
            "  5.4974   1.0173   3.5129   3.2522  17.929   12.134    5.1875   5.9966\n",
            "  0.56077  1.844    4.2415   0.29678  4.0259   7.0467  14.692   17.592\n",
            " 11.886    3.1551   1.2784 ]\n",
            "ytest la : [ 6.7526   2.0576   4.6042   4.2959  15.505   20.992   -1.4211   0.20421\n",
            "  0.71618  2.8214   1.0463  21.767    4.1164   6.5987   5.4141   1.4233\n",
            "  3.8166  22.638    0.14454  0.92695 11.854    3.1386  17.054   12.054\n",
            "  6.6799   1.9869  10.117    7.2258   5.3048  -1.22   ]\n",
            "Xtest la : [[10.274 ]\n",
            " [ 5.1077]\n",
            " [ 5.6397]\n",
            " [ 7.6366]\n",
            " [14.164 ]\n",
            " [20.341 ]\n",
            " [ 6.3589]\n",
            " [ 5.1884]\n",
            " [ 5.6407]\n",
            " [ 5.0594]\n",
            " [ 7.0931]\n",
            " [20.27  ]\n",
            " [ 8.0959]\n",
            " [ 6.4862]\n",
            " [ 9.4536]\n",
            " [ 6.3328]\n",
            " [ 5.0546]\n",
            " [18.945 ]\n",
            " [ 8.2934]\n",
            " [ 6.002 ]\n",
            " [ 7.0032]\n",
            " [ 6.1891]\n",
            " [18.959 ]\n",
            " [14.908 ]\n",
            " [10.136 ]\n",
            " [ 5.3054]\n",
            " [12.836 ]\n",
            " [ 8.4084]\n",
            " [ 6.3654]\n",
            " [ 5.2524]]\n",
            ".  . . . . . . . . . . . . . . . . . . . .\n",
            "cau2 \n",
            "[array([ 1.4233 ,  0.61705,  1.2784 ,  4.2959 ,  2.4756 , 17.054  ,\n",
            "       15.505  ,  2.0576 ,  5.3048 ,  3.5129 ,  3.2522 ,  4.3483 ,\n",
            "       14.692  ,  1.8396 ,  3.9624 ,  3.1551 ,  6.5426 ,  5.3854 ,\n",
            "       -1.4211 ,  3.3928 ,  0.56077,  5.7442 , 20.992  ,  1.0179 ,\n",
            "       24.147  ,  5.3893 ,  7.0467 ,  3.0825 ,  0.20421,  7.7754 ,\n",
            "        6.5987 ,  6.7318 ,  7.2029 ,  5.4141 , 11.886  ,  4.2885 ,\n",
            "        5.1694 , 12.134  ,  4.0259 ,  4.263  ,  0.152  ,  4.6042 ,\n",
            "        4.5623 ,  5.7014 ,  8.0043 , -0.74279,  3.1386 ,  0.29678,\n",
            "        4.9981 ,  7.5435 , 10.117  ,  1.8451 ,  5.9966 ,  5.1875 ,\n",
            "        5.1337 , 13.501  ,  0.71618,  3.9115 , 12.     ,  6.7504 ,\n",
            "        5.3436 , 11.854  ,  6.8233 ,  3.6518 ,  3.8166 ,  4.1164 ,\n",
            "        7.2258 ,  2.4406 ,  0.67861, 17.592  , 13.662  ,  6.6799 ]), array([ 5.4974 ,  1.8495 ,  9.0551 ,  0.92695,  1.0463 ,  1.844  ,\n",
            "       12.054  ,  4.2415 , 22.638  ,  6.7981 ,  0.55657,  2.8214 ,\n",
            "        3.8845 , 17.929  ,  4.8852 , -1.22   ,  6.7526 ,  0.14454,\n",
            "        1.0173 , 21.767  ,  1.9869 ,  9.1302 ,  0.47953, -2.6807 ,\n",
            "        3.3411 ])]\n"
          ]
        }
      ],
      "source": [
        "def readfile(folder, filename):\n",
        "  D = np.loadtxt(os.path.join(folder, filename), delimiter=',')\n",
        "  X, y = D[:,:-1], D[:,-1]\n",
        "  X_train, X_test, y_train, y_test = train_test_split(X, y,test_size=0.30,random_state=15)\n",
        "  print(\"Xtrain la :\",X_train)\n",
        "  print(\"ytrain la :\",y_train)\n",
        "  print(\"ytest la :\",y_test)\n",
        "  print(\"Xtest la :\",X_test)\n",
        "  print(\".  . . . . . . . . . . . . . . . . . . . .\\ncau2 \")\n",
        "  print(train_test_split(y, shuffle=True))\n",
        "readfile(\"/content\",\"ex1data1.txt\") "
      ]
    },
    {
      "cell_type": "markdown",
      "source": [
        "![image.png](data:image/png;base64,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)"
      ],
      "metadata": {
        "id": "jBEcLGnN9JQL"
      }
    },
    {
      "cell_type": "markdown",
      "source": [
        "X_train - Điều này bao gồm tất cả các biến độc lập của bạn, những biến này sẽ được sử dụng để đào tạo mô hình, cũng như chúng tôi đã chỉ định test_size = 0.4, điều này có nghĩa là 60% quan sát từ dữ liệu hoàn chỉnh của bạn sẽ được sử dụng để đào tạo / điều chỉnh mô hình và phần còn lại 40 % sẽ được sử dụng để kiểm tra mô hình."
      ],
      "metadata": {
        "id": "0g6hBfkv8BcP"
      }
    },
    {
      "cell_type": "markdown",
      "source": [
        "X_test - Đây là phần còn lại 40% của các biến độc lập từ dữ liệu sẽ không được sử dụng trong giai đoạn huấn luyện và sẽ được sử dụng để đưa ra các dự đoán nhằm kiểm tra độ chính xác của mô hình"
      ],
      "metadata": {
        "id": "ISEtUwL98HFF"
      }
    },
    {
      "cell_type": "markdown",
      "source": [
        "y_train - Đây là biến phụ thuộc của bạn cần được dự đoán bởi mô hình này, điều này bao gồm các nhãn danh mục so với các biến độc lập của bạn, chúng tôi cần chỉ định biến phụ thuộc của mình trong khi đào tạo / điều chỉnh mô hình."
      ],
      "metadata": {
        "id": "hBrW78Tv8MGU"
      }
    },
    {
      "cell_type": "markdown",
      "source": [
        "y_test - Dữ liệu này có các nhãn danh mục cho dữ liệu thử nghiệm của bạn, các nhãn này sẽ được sử dụng để kiểm tra độ chính xác giữa danh mục thực tế và danh mục dự đoán."
      ],
      "metadata": {
        "id": "2rILJ0lK8Mpt"
      }
    },
    {
      "cell_type": "markdown",
      "source": [
        "![image.png](data:image/png;base64,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)"
      ],
      "metadata": {
        "id": "IucG-9Ws9K3M"
      }
    },
    {
      "cell_type": "markdown",
      "source": [
        "để ngăn chặn việc gán không ngẫu nhiên cho tập huấn luyện và thử nghiệm\n",
        "Với shuffle = True, bạn phân chia dữ liệu một cách ngẫu nhiên"
      ],
      "metadata": {
        "id": "z9weUTVC8lJQ"
      }
    }
  ]
}